{
 "cells": [
  {
   "cell_type": "code",
   "execution_count": 8,
   "id": "08d8bbc1",
   "metadata": {},
   "outputs": [
    {
     "name": "stdout",
     "output_type": "stream",
     "text": [
      "dict_keys(['__header__', '__version__', '__globals__', 'X', 'Y'])\n",
      "<COOrdinate sparse matrix of dtype 'float64'\n",
      "\twith 2351499 stored elements and shape (57173, 10000)>\n",
      "  Coords\tValues\n",
      "  (957, 0)\t1.0\n",
      "  (2164, 0)\t1.0\n",
      "  (2603, 0)\t1.0\n",
      "  (2925, 0)\t1.0\n",
      "  (2939, 0)\t1.0\n",
      "  (3010, 0)\t3.0\n",
      "  (3021, 0)\t3.0\n",
      "  (3330, 0)\t1.0\n",
      "  (3577, 0)\t1.0\n",
      "  (4148, 0)\t1.0\n",
      "  (4506, 0)\t1.0\n",
      "  (5193, 0)\t1.0\n",
      "  (6595, 0)\t3.0\n",
      "  (6799, 0)\t1.0\n",
      "  (6897, 0)\t1.0\n",
      "  (7237, 0)\t2.0\n",
      "  (7304, 0)\t1.0\n",
      "  (7567, 0)\t1.0\n",
      "  (9590, 0)\t3.0\n",
      "  (11570, 0)\t1.0\n",
      "  (11702, 0)\t2.0\n",
      "  (11826, 0)\t1.0\n",
      "  (11965, 0)\t3.0\n",
      "  (12246, 0)\t4.0\n",
      "  (12442, 0)\t1.0\n",
      "  :\t:\n",
      "  (49154, 9999)\t2.0\n",
      "  (49216, 9999)\t1.0\n",
      "  (49476, 9999)\t1.0\n",
      "  (49515, 9999)\t5.0\n",
      "  (49832, 9999)\t1.0\n",
      "  (50228, 9999)\t2.0\n",
      "  (50575, 9999)\t2.0\n",
      "  (50752, 9999)\t2.0\n",
      "  (50803, 9999)\t4.0\n",
      "  (51154, 9999)\t2.0\n",
      "  (51332, 9999)\t2.0\n",
      "  (51580, 9999)\t1.0\n",
      "  (51854, 9999)\t2.0\n",
      "  (52354, 9999)\t2.0\n",
      "  (52431, 9999)\t1.0\n",
      "  (52725, 9999)\t1.0\n",
      "  (52836, 9999)\t4.0\n",
      "  (52948, 9999)\t2.0\n",
      "  (53318, 9999)\t1.0\n",
      "  (54075, 9999)\t8.0\n",
      "  (54150, 9999)\t4.0\n",
      "  (55717, 9999)\t4.0\n",
      "  (55792, 9999)\t2.0\n",
      "  (55908, 9999)\t1.0\n",
      "  (56173, 9999)\t2.0\n"
     ]
    }
   ],
   "source": [
    "from scipy.io import loadmat\n",
    "\n",
    "MAT_PATH = \"emails.mat\" \n",
    "\n",
    "def load_spam_mat(path=MAT_PATH):\n",
    "    data = loadmat(path)\n",
    "    print(data.keys())\n",
    "    \n",
    "    X = data[\"X\"]\n",
    "    Y = data[\"Y\"]\n",
    "    print(X)\n",
    "    # print(Y)\n",
    "    return X, Y\n",
    "    \n",
    "    \n",
    "X, y = load_spam_mat()"
   ]
  },
  {
   "cell_type": "code",
   "execution_count": 18,
   "id": "707fc6ac",
   "metadata": {},
   "outputs": [
    {
     "name": "stdout",
     "output_type": "stream",
     "text": [
      "[[0. 0. 0. ... 0. 0. 0.]]\n",
      "Indices: [  45  322  324  697  698 1049 1440 2265 2269 2361 3018 3146 3749 4779\n",
      " 4957 5180 8890 9087 9201 9306 9307]\n",
      "Counts: [2. 1. 1. 1. 1. 1. 1. 3. 1. 3. 2. 1. 9. 3. 2. 1. 1. 2. 1. 1. 1.]\n",
      "<Compressed Sparse Row sparse matrix of dtype 'float64'\n",
      "\twith 21 stored elements and shape (1, 10000)>\n",
      "  Coords\tValues\n",
      "  (0, 45)\t2.0\n",
      "  (0, 322)\t1.0\n",
      "  (0, 324)\t1.0\n",
      "  (0, 697)\t1.0\n",
      "  (0, 698)\t1.0\n",
      "  (0, 1049)\t1.0\n",
      "  (0, 1440)\t1.0\n",
      "  (0, 2265)\t3.0\n",
      "  (0, 2269)\t1.0\n",
      "  (0, 2361)\t3.0\n",
      "  (0, 3018)\t2.0\n",
      "  (0, 3146)\t1.0\n",
      "  (0, 3749)\t9.0\n",
      "  (0, 4779)\t3.0\n",
      "  (0, 4957)\t2.0\n",
      "  (0, 5180)\t1.0\n",
      "  (0, 8890)\t1.0\n",
      "  (0, 9087)\t2.0\n",
      "  (0, 9201)\t1.0\n",
      "  (0, 9306)\t1.0\n",
      "  (0, 9307)\t1.0\n"
     ]
    }
   ],
   "source": [
    "from scipy import sparse\n",
    "\n",
    "Xcsr = X.tocsr()   # now you can slice rows\n",
    "print(Xcsr[666].toarray())  # full first email as dense vector\n",
    "\n",
    "X_test = Xcsr[0]\n",
    "print(\"Indices:\", X_test.indices)\n",
    "print(\"Counts:\", X_test.data)\n",
    "print(Xcsr[0])"
   ]
  },
  {
   "cell_type": "code",
   "execution_count": 17,
   "id": "f9316adf",
   "metadata": {},
   "outputs": [
    {
     "name": "stdout",
     "output_type": "stream",
     "text": [
      "[[0. 0. 0. ... 0. 0. 0.]]\n",
      "<Compressed Sparse Row sparse matrix of dtype 'float64'\n",
      "\twith 21 stored elements and shape (1, 10000)>\n",
      "  Coords\tValues\n",
      "  (0, 45)\t0.1934362003400207\n",
      "  (0, 322)\t0.09565185801833509\n",
      "  (0, 324)\t0.09644379871744234\n",
      "  (0, 697)\t0.09582399856879464\n",
      "  (0, 698)\t0.09608626098695282\n",
      "  (0, 1049)\t0.09523058103442526\n",
      "  (0, 1440)\t0.08036222184234314\n",
      "  (0, 2265)\t0.2887916515996146\n",
      "  (0, 2269)\t0.0959108724167202\n",
      "  (0, 2361)\t0.2890606533142013\n",
      "  (0, 3018)\t0.19418487389539188\n",
      "  (0, 3146)\t0.09556657819599894\n",
      "  (0, 3749)\t0.697332208445023\n",
      "  (0, 4779)\t0.29331818498997264\n",
      "  (0, 4957)\t0.17495049741232885\n",
      "  (0, 5180)\t0.0959108724167202\n",
      "  (0, 8890)\t0.09635355110473376\n",
      "  (0, 9087)\t0.19380802471489106\n",
      "  (0, 9201)\t0.09709243694769594\n",
      "  (0, 9306)\t0.09626388386653821\n",
      "  (0, 9307)\t0.09767348800011402\n"
     ]
    }
   ],
   "source": [
    "from sklearn.feature_extraction.text import TfidfTransformer\n",
    "\n",
    "tfidf = TfidfTransformer(norm='l2', use_idf=True, smooth_idf=True, sublinear_tf=False)\n",
    "X_2 = tfidf.fit_transform(Xcsr)  # still sparse\n",
    "print(X_2[0].toarray())\n",
    "\n",
    "X_2_csr = X_2.tocsr() \n",
    "print(X_2_csr[0])"
   ]
  },
  {
   "cell_type": "code",
   "execution_count": 7,
   "id": "95b6ac6d",
   "metadata": {},
   "outputs": [
    {
     "name": "stdout",
     "output_type": "stream",
     "text": [
      "Nonzero indices: [ 473 1462 1536 2648 3639 4767 6664 8000 8377 8787 8806 9089 9988]\n",
      "TF-IDF values: [0.03289265 0.6140179  0.03303825 0.03295946 0.03307799 0.03298749\n",
      " 0.72778321 0.28325242 0.03311796 0.04768064 0.04545116 0.03337476\n",
      " 0.03301001]\n"
     ]
    }
   ],
   "source": [
    "row = X_2[2000]\n",
    "print(\"Nonzero indices:\", row.indices)\n",
    "print(\"TF-IDF values:\", row.data)"
   ]
  }
 ],
 "metadata": {
  "kernelspec": {
   "display_name": ".venv (3.13.7)",
   "language": "python",
   "name": "python3"
  },
  "language_info": {
   "codemirror_mode": {
    "name": "ipython",
    "version": 3
   },
   "file_extension": ".py",
   "mimetype": "text/x-python",
   "name": "python",
   "nbconvert_exporter": "python",
   "pygments_lexer": "ipython3",
   "version": "3.13.7"
  }
 },
 "nbformat": 4,
 "nbformat_minor": 5
}
